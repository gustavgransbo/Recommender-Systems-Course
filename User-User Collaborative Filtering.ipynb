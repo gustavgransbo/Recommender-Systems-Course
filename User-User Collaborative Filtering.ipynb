{
 "cells": [
  {
   "cell_type": "markdown",
   "metadata": {},
   "source": [
    "# User-User Collaborative Filtering\n",
    "In this notebook I will perform the task of [lecture 23](https://www.udemy.com/recommender-systems/learn/lecture/11717432), which is to predict movie ratings of users using user-user collaborative filtering."
   ]
  },
  {
   "cell_type": "markdown",
   "metadata": {},
   "source": [
    "# MovieLens Data\n",
    "The data that I will classify comes from the MovieLens20M data set, containing 20 million user ratings (1-5 stars) of movies in the MovieLens database."
   ]
  },
  {
   "cell_type": "markdown",
   "metadata": {},
   "source": [
    "## Load the Data"
   ]
  },
  {
   "cell_type": "code",
   "execution_count": 11,
   "metadata": {
    "collapsed": true
   },
   "outputs": [],
   "source": [
    "import pandas as pd\n",
    "import numpy as np\n",
    "\n",
    "import matplotlib.pyplot as plt\n",
    "import seaborn as sns\n",
    "\n",
    "sns.set_style('whitegrid')\n",
    "%matplotlib inline"
   ]
  },
  {
   "cell_type": "code",
   "execution_count": 2,
   "metadata": {
    "collapsed": true
   },
   "outputs": [],
   "source": [
    "movielens_df = pd.read_csv('large_files/rating.csv')"
   ]
  },
  {
   "cell_type": "code",
   "execution_count": 3,
   "metadata": {},
   "outputs": [
    {
     "data": {
      "text/plain": [
       "(20000263, 4)"
      ]
     },
     "execution_count": 3,
     "metadata": {},
     "output_type": "execute_result"
    }
   ],
   "source": [
    "movielens_df.shape"
   ]
  },
  {
   "cell_type": "code",
   "execution_count": 4,
   "metadata": {},
   "outputs": [
    {
     "data": {
      "text/html": [
       "<div>\n",
       "<style scoped>\n",
       "    .dataframe tbody tr th:only-of-type {\n",
       "        vertical-align: middle;\n",
       "    }\n",
       "\n",
       "    .dataframe tbody tr th {\n",
       "        vertical-align: top;\n",
       "    }\n",
       "\n",
       "    .dataframe thead th {\n",
       "        text-align: right;\n",
       "    }\n",
       "</style>\n",
       "<table border=\"1\" class=\"dataframe\">\n",
       "  <thead>\n",
       "    <tr style=\"text-align: right;\">\n",
       "      <th></th>\n",
       "      <th>userId</th>\n",
       "      <th>movieId</th>\n",
       "      <th>rating</th>\n",
       "      <th>timestamp</th>\n",
       "    </tr>\n",
       "  </thead>\n",
       "  <tbody>\n",
       "    <tr>\n",
       "      <th>0</th>\n",
       "      <td>1</td>\n",
       "      <td>2</td>\n",
       "      <td>3.5</td>\n",
       "      <td>2005-04-02 23:53:47</td>\n",
       "    </tr>\n",
       "    <tr>\n",
       "      <th>1</th>\n",
       "      <td>1</td>\n",
       "      <td>29</td>\n",
       "      <td>3.5</td>\n",
       "      <td>2005-04-02 23:31:16</td>\n",
       "    </tr>\n",
       "    <tr>\n",
       "      <th>2</th>\n",
       "      <td>1</td>\n",
       "      <td>32</td>\n",
       "      <td>3.5</td>\n",
       "      <td>2005-04-02 23:33:39</td>\n",
       "    </tr>\n",
       "    <tr>\n",
       "      <th>3</th>\n",
       "      <td>1</td>\n",
       "      <td>47</td>\n",
       "      <td>3.5</td>\n",
       "      <td>2005-04-02 23:32:07</td>\n",
       "    </tr>\n",
       "    <tr>\n",
       "      <th>4</th>\n",
       "      <td>1</td>\n",
       "      <td>50</td>\n",
       "      <td>3.5</td>\n",
       "      <td>2005-04-02 23:29:40</td>\n",
       "    </tr>\n",
       "  </tbody>\n",
       "</table>\n",
       "</div>"
      ],
      "text/plain": [
       "   userId  movieId  rating            timestamp\n",
       "0       1        2     3.5  2005-04-02 23:53:47\n",
       "1       1       29     3.5  2005-04-02 23:31:16\n",
       "2       1       32     3.5  2005-04-02 23:33:39\n",
       "3       1       47     3.5  2005-04-02 23:32:07\n",
       "4       1       50     3.5  2005-04-02 23:29:40"
      ]
     },
     "execution_count": 4,
     "metadata": {},
     "output_type": "execute_result"
    }
   ],
   "source": [
    "movielens_df.head()"
   ]
  },
  {
   "cell_type": "code",
   "execution_count": 6,
   "metadata": {},
   "outputs": [
    {
     "data": {
      "text/plain": [
       "userId     138493\n",
       "movieId     26744\n",
       "dtype: int64"
      ]
     },
     "execution_count": 6,
     "metadata": {},
     "output_type": "execute_result"
    }
   ],
   "source": [
    "movielens_df.loc[:,['userId', 'movieId']].nunique()"
   ]
  },
  {
   "cell_type": "markdown",
   "metadata": {},
   "source": [
    "## Reduce the data\n",
    "I would like to avoid having to deal with a 138k X 26k matrix of user-ratings.\n",
    "The course suggests only considering the top most active users and most rated movies.\n",
    "For movies this might make sense, we could consider only recommending movies we have a lot of data bout, but when it comes to users I see this as a little bit of a cheat, since it automatically discards the hardest cases, i.e. providing recommendations for users we have little data for.\n",
    "\n",
    "So, I will be keeping the top most rated movies, but a random subset of users (subject to some limitations)."
   ]
  },
  {
   "cell_type": "markdown",
   "metadata": {},
   "source": [
    "### Select top movies"
   ]
  },
  {
   "cell_type": "code",
   "execution_count": 9,
   "metadata": {
    "collapsed": true
   },
   "outputs": [],
   "source": [
    "top_most_rated_movies = movielens_df['movieId'].value_counts()"
   ]
  },
  {
   "cell_type": "code",
   "execution_count": 16,
   "metadata": {},
   "outputs": [
    {
     "data": {
      "text/plain": [
       "Text(0.5,1,'Distribution of ratings for all movies')"
      ]
     },
     "execution_count": 16,
     "metadata": {},
     "output_type": "execute_result"
    },
    {
     "data": {
      "image/png": "[encoded data removed]",
      "text/plain": [
       "<Figure size 576x324 with 1 Axes>"
      ]
     },
     "metadata": {},
     "output_type": "display_data"
    }
   ],
   "source": [
    "f, ax = plt.subplots(figsize=(8, 4.5))\n",
    "ax.plot(np.arange(len(top_most_rated_movies)), top_most_rated_movies.values);\n",
    "ax.set_ylabel('ratings')\n",
    "ax.set_xlabel('rank')\n",
    "ax.set_title('Distribution of ratings for all movies')"
   ]
  },
  {
   "cell_type": "markdown",
   "metadata": {},
   "source": [
    "The number of ratings per movie follows a clear power law, with a small fraction of movies having a large number of ratings. Let's select the top 2,500 movies for our experiments."
   ]
  },
  {
   "cell_type": "code",
   "execution_count": 26,
   "metadata": {
    "collapsed": true
   },
   "outputs": [],
   "source": [
    "top_movies = top_most_rated_movies[:2500].index.values"
   ]
  },
  {
   "cell_type": "code",
   "execution_count": 31,
   "metadata": {
    "collapsed": true
   },
   "outputs": [],
   "source": [
    "top_movies_df = movielens_df.loc[movielens_df.loc[:,'movieId'].isin(top_movies),:]"
   ]
  },
  {
   "cell_type": "code",
   "execution_count": 36,
   "metadata": {},
   "outputs": [
    {
     "name": "stdout",
     "output_type": "stream",
     "text": [
      "We are down to 84.85 % of all reviews\n"
     ]
    }
   ],
   "source": [
    "print(\"We are down to %.2f %% of all reviews\" % (100 * top_movies_df.shape[0] / movielens_df.shape[0]))"
   ]
  },
  {
   "cell_type": "markdown",
   "metadata": {},
   "source": [
    "### Filter out users"
   ]
  },
  {
   "cell_type": "code",
   "execution_count": 37,
   "metadata": {
    "collapsed": true
   },
   "outputs": [],
   "source": [
    "reviews_per_user = top_movies_df['userId'].value_counts()"
   ]
  },
  {
   "cell_type": "code",
   "execution_count": 39,
   "metadata": {},
   "outputs": [
    {
     "data": {
      "text/plain": [
       "Text(0.5,1,'Distribution of ratings for all users')"
      ]
     },
     "execution_count": 39,
     "metadata": {},
     "output_type": "execute_result"
    },
    {
     "data": {
      "image/png": "[encoded data removed]",
      "text/plain": [
       "<Figure size 576x324 with 1 Axes>"
      ]
     },
     "metadata": {},
     "output_type": "display_data"
    }
   ],
   "source": [
    "f, ax = plt.subplots(figsize=(8, 4.5))\n",
    "ax.plot(np.arange(len(reviews_per_user)), reviews_per_user.values);\n",
    "ax.set_ylabel('Rated Movies')\n",
    "ax.set_xlabel('Rank')\n",
    "ax.set_title('Distribution of ratings for all users')"
   ]
  },
  {
   "cell_type": "markdown",
   "metadata": {},
   "source": [
    "Similar story as before, some users have rated a lot of movies. Tough this distribution has a fatter tail, meaning manu users have actually rated a medium amount of movies.\n",
    "\n",
    "Anyway, let's only keep 20,000 users to start with. 10,000 for training and 10,000 for a test set."
   ]
  },
  {
   "cell_type": "code",
   "execution_count": 42,
   "metadata": {
    "collapsed": true
   },
   "outputs": [],
   "source": [
    "users_to_keep = np.random.choice(reviews_per_user.index.values, 20000, replace=False)"
   ]
  },
  {
   "cell_type": "code",
   "execution_count": 45,
   "metadata": {
    "collapsed": true
   },
   "outputs": [],
   "source": [
    "train_users, test_users = users_to_keep[:10000], users_to_keep[10000:]"
   ]
  },
  {
   "cell_type": "code",
   "execution_count": 47,
   "metadata": {
    "collapsed": true
   },
   "outputs": [],
   "source": [
    "train_df = top_movies_df.loc[top_movies_df.loc[:,'userId'].isin(train_users),:]\n",
    "test_df = top_movies_df.loc[top_movies_df.loc[:,'userId'].isin(test_users),:]"
   ]
  },
  {
   "cell_type": "code",
   "execution_count": 49,
   "metadata": {},
   "outputs": [
    {
     "name": "stdout",
     "output_type": "stream",
     "text": [
      "Training set consists of 6.21 % of all reviews\n",
      "Test set consists of 6.02 % of all reviews\n"
     ]
    }
   ],
   "source": [
    "print(\"Training set consists of %.2f %% of all reviews\" % (100 * train_df.shape[0] / movielens_df.shape[0]))\n",
    "print(\"Test set consists of %.2f %% of all reviews\" % (100 * test_df.shape[0] / movielens_df.shape[0]))"
   ]
  },
  {
   "cell_type": "markdown",
   "metadata": {},
   "source": [
    "Cool, now the set of reviews we need to handle is drastically reduced."
   ]
  },
  {
   "cell_type": "markdown",
   "metadata": {},
   "source": [
    "# Predicting ratings\n",
    "The task I am tackeling in this notebook is to predict movie ratings for movies that a user did not yet watch. This will be done based on how users with similar taste in movies have rated the movie."
   ]
  },
  {
   "cell_type": "markdown",
   "metadata": {},
   "source": [
    "## Sparse Recommendation Matrix "
   ]
  },
  {
   "cell_type": "markdown",
   "metadata": {},
   "source": [
    "Give all users a new index staring at 0, for easier storing in matrix format."
   ]
  },
  {
   "cell_type": "code",
   "execution_count": 88,
   "metadata": {},
   "outputs": [],
   "source": [
    "train_user_ids = dict(zip(train_df.loc[:,'userId'].unique(), range(train_df.loc[:,'userId'].nunique())))\n",
    "test_user_ids = dict(zip(test_df.loc[:,'userId'].unique(), range(test_df.loc[:,'userId'].nunique())))\n",
    "\n",
    "movie_ids = dict(zip(top_movies, range(len(top_movies))))"
   ]
  },
  {
   "cell_type": "code",
   "execution_count": 89,
   "metadata": {},
   "outputs": [
    {
     "name": "stderr",
     "output_type": "stream",
     "text": [
      "C:\\Users\\Gustav\\Anaconda3\\lib\\site-packages\\pandas\\core\\indexing.py:543: SettingWithCopyWarning: \n",
      "A value is trying to be set on a copy of a slice from a DataFrame.\n",
      "Try using .loc[row_indexer,col_indexer] = value instead\n",
      "\n",
      "See the caveats in the documentation: http://pandas.pydata.org/pandas-docs/stable/indexing.html#indexing-view-versus-copy\n",
      "  self.obj[item] = s\n",
      "C:\\Users\\Gustav\\Anaconda3\\lib\\site-packages\\pandas\\core\\indexing.py:362: SettingWithCopyWarning: \n",
      "A value is trying to be set on a copy of a slice from a DataFrame.\n",
      "Try using .loc[row_indexer,col_indexer] = value instead\n",
      "\n",
      "See the caveats in the documentation: http://pandas.pydata.org/pandas-docs/stable/indexing.html#indexing-view-versus-copy\n",
      "  self.obj[key] = _infer_fill_value(value)\n"
     ]
    }
   ],
   "source": [
    "# Relabel Users\n",
    "train_df.loc[:,'newUserId'] = train_df.loc[:,'userId'].apply(lambda x: train_user_ids[x])\n",
    "test_df.loc[:,'newUserId'] = test_df.loc[:,'userId'].apply(lambda x: test_user_ids[x])\n",
    "\n",
    "# Relabel Movies\n",
    "train_df.loc[:,'newMovieId'] = train_df.loc[:,'movieId'].apply(lambda x: movie_ids[x])\n",
    "test_df.loc[:,'newMovieId'] = test_df.loc[:,'movieId'].apply(lambda x: movie_ids[x])"
   ]
  },
  {
   "cell_type": "code",
   "execution_count": 50,
   "metadata": {
    "collapsed": true
   },
   "outputs": [],
   "source": [
    "import scipy"
   ]
  },
  {
   "cell_type": "code",
   "execution_count": 90,
   "metadata": {},
   "outputs": [],
   "source": [
    "R_train = scipy.sparse.coo_matrix((train_df.loc[:,'rating'].values, (train_df.loc[:,'newUserId'].values, train_df.loc[:,'newMovieId'].values)), shape=(10000, 2500))\n",
    "R_train = scipy.sparse.csr_matrix(R_train)"
   ]
  },
  {
   "cell_type": "code",
   "execution_count": 96,
   "metadata": {
    "collapsed": true
   },
   "outputs": [],
   "source": [
    "R_test = scipy.sparse.coo_matrix((test_df.loc[:,'rating'].values, (test_df.loc[:,'newUserId'].values, test_df.loc[:,'newMovieId'].values)), shape=(10000, 2500))\n",
    "R_test = scipy.sparse.csr_matrix(R_test)"
   ]
  },
  {
   "cell_type": "markdown",
   "metadata": {},
   "source": [
    "## Un-weighted averages\n",
    "First, let's make predictions $\\hat{r}_{i,j}$ about what ratings user $i$ will give movie $j$ simply by averaging over all other predictions:\n",
    "$$\\hat{r}_{i,j}= \\bar{r}_i + \\frac{\\sum_{i'\\in \\Omega_j}r_{i',j} - \\bar{r}_{i'}}{|\\Omega_j|},$$\n",
    "where $r_{i,j}$ is the rating given by user $i$ for movie $j$, $\\bar{r}_i$ is the average of all ratings user $i$ has given so far, $\\Omega_j$ is the set of all users who have rated movie $j$.\n",
    "Esentially, we predict ratings for each user-movie pair as the users mean rating plus the movies average deviation from raters mean ratings."
   ]
  },
  {
   "cell_type": "markdown",
   "metadata": {},
   "source": [
    "Start by calculating the avereage rating for all users: $\\bar{r}_i$"
   ]
  },
  {
   "cell_type": "code",
   "execution_count": 168,
   "metadata": {
    "collapsed": true
   },
   "outputs": [],
   "source": [
    "# Rhat\n",
    "R_train_user_mean = R_train.sum(1) / (R_train != 0).sum(1)\n",
    "R_train_user_mean_vec = np.asarray(R_train_user_mean).reshape(-1)"
   ]
  },
  {
   "cell_type": "markdown",
   "metadata": {},
   "source": [
    "Calculating $\\frac{\\sum_{i'\\in \\Psi_j}r_{i',j} - \\bar{r}_{i'}}{|\\Psi_j|}$ is trickier since it requires subtracting the row means only from non-zero ratings:"
   ]
  },
  {
   "cell_type": "code",
   "execution_count": 200,
   "metadata": {},
   "outputs": [],
   "source": [
    "# Elementwise subtraction of the user means (adapted from https://stackoverflow.com/questions/19017804/scipy-sparse-matrix-special-substraction)\n",
    "non_zero_per_row = np.diff(R_train.indptr)\n",
    "\n",
    "R_train_deviations = scipy.sparse.csr_matrix((R_train.data - np.repeat(R_train_user_mean_vec, non_zero_per_row), R_train.indices, R_train.indptr),\n",
    "                   shape=R_train.shape)\n",
    "\n",
    "R_train_movie_mean_deviations = R_train_movie_mean_dev.sum(0) / (R_train != 0).sum(0)"
   ]
  },
  {
   "cell_type": "markdown",
   "metadata": {},
   "source": [
    "Finaly, piece the two vectors together to calculate the matrix $\\hat{R}$, with elements $\\bar{r}_{i,j}$."
   ]
  },
  {
   "cell_type": "code",
   "execution_count": 201,
   "metadata": {
    "collapsed": true
   },
   "outputs": [],
   "source": [
    "R_train_predictions = R_train_user_mean + R_train_movie_mean_deviations"
   ]
  },
  {
   "cell_type": "markdown",
   "metadata": {},
   "source": [
    "Though, since we can only evaluate movies that users have actually rated, let's also create a vector of predictions that we call $\\hat{Y}$, that we can use to compare to the ectual reviews $Y$."
   ]
  },
  {
   "cell_type": "code",
   "execution_count": 188,
   "metadata": {},
   "outputs": [],
   "source": [
    "Y_train_hat = np.asarray(R_train_predictions[R_train.nonzero()]).reshape(-1)"
   ]
  },
  {
   "cell_type": "code",
   "execution_count": 189,
   "metadata": {},
   "outputs": [
    {
     "data": {
      "text/plain": [
       "(1241462,)"
      ]
     },
     "execution_count": 189,
     "metadata": {},
     "output_type": "execute_result"
    }
   ],
   "source": [
    "Y_train_hat.shape"
   ]
  },
  {
   "cell_type": "code",
   "execution_count": 192,
   "metadata": {
    "collapsed": true
   },
   "outputs": [],
   "source": [
    "Y_train = R_train.data"
   ]
  },
  {
   "cell_type": "code",
   "execution_count": 193,
   "metadata": {},
   "outputs": [
    {
     "data": {
      "text/plain": [
       "(1241462,)"
      ]
     },
     "execution_count": 193,
     "metadata": {},
     "output_type": "execute_result"
    }
   ],
   "source": [
    "Y_train.shape"
   ]
  },
  {
   "cell_type": "markdown",
   "metadata": {},
   "source": [
    "### Evaluate with MSE"
   ]
  },
  {
   "cell_type": "code",
   "execution_count": 183,
   "metadata": {
    "collapsed": true
   },
   "outputs": [],
   "source": [
    "from sklearn.metrics import mean_squared_error"
   ]
  },
  {
   "cell_type": "code",
   "execution_count": 195,
   "metadata": {},
   "outputs": [
    {
     "name": "stdout",
     "output_type": "stream",
     "text": [
      "MSE on training set, no weighting: 0.7395\n"
     ]
    }
   ],
   "source": [
    "print(\"MSE on training set, no weighting: %.4f\" % mean_squared_error(Y_train, Y_train_hat))"
   ]
  },
  {
   "cell_type": "markdown",
   "metadata": {},
   "source": [
    "## Weighted averages\n",
    "When predicting ratings with weighted averages, we consider the ratings made by similar users as being more relevant. Predictions are made with:\n",
    "$$\\hat{r}_{i,j}= \\bar{r}_i + \\frac{\\sum_{i'\\in \\Omega_j}w_{i,i'}(r_{i',j} - \\bar{r}_{i'})}{\\sum_{i'\\in\\Omega_j}|w_{i,i'}|},$$\n",
    "where $w_{i,i'}$ is a weight how how similar users $i$ and $i'$ are."
   ]
  },
  {
   "cell_type": "code",
   "execution_count": 98,
   "metadata": {
    "collapsed": true
   },
   "outputs": [],
   "source": [
    "from sklearn.metrics.pairwise import cosine_similarity"
   ]
  },
  {
   "cell_type": "code",
   "execution_count": 202,
   "metadata": {},
   "outputs": [],
   "source": [
    "W_train = cosine_similarity(R_train_deviations)"
   ]
  },
  {
   "cell_type": "code",
   "execution_count": 205,
   "metadata": {},
   "outputs": [
    {
     "data": {
      "text/plain": [
       "(10000, 10000)"
      ]
     },
     "execution_count": 205,
     "metadata": {},
     "output_type": "execute_result"
    }
   ],
   "source": [
    "W_train.shape"
   ]
  },
  {
   "cell_type": "markdown",
   "metadata": {},
   "source": [
    "First, a naive implementation of the predict function that simply predicts the rating for a single user-movie pair."
   ]
  },
  {
   "cell_type": "code",
   "execution_count": 323,
   "metadata": {},
   "outputs": [],
   "source": [
    "def pred(user_id, movie_id, R_deviations, W, R_user_mean):\n",
    "    \n",
    "    return (R_user_mean[user_id] + (W[user_id] * R_deviations[:,movie_id].toarray().flatten()).sum() / np.absolute(W[user_id]).sum())"
   ]
  },
  {
   "cell_type": "markdown",
   "metadata": {},
   "source": [
    "The above implementation ended up being increadibly slow, so let's improve it by calculating all predictions for one user at a time."
   ]
  },
  {
   "cell_type": "code",
   "execution_count": 339,
   "metadata": {
    "collapsed": true
   },
   "outputs": [],
   "source": [
    "def pred_user(user_id, R_deviations, W, R_user_mean):\n",
    "    weighted_deviations = R_deviations.T.multiply(W[user_id]).T\n",
    "    \n",
    "    return R_user_mean[user_id] + weighted_deviations.sum(0) / np.absolute(W[0]).sum(0)"
   ]
  },
  {
   "cell_type": "code",
   "execution_count": 332,
   "metadata": {},
   "outputs": [
    {
     "data": {
      "text/plain": [
       "3.9692634523529975"
      ]
     },
     "execution_count": 332,
     "metadata": {},
     "output_type": "execute_result"
    }
   ],
   "source": [
    "pred(0, 10, R_train_deviations, W_train, R_train_user_mean_vec)"
   ]
  },
  {
   "cell_type": "code",
   "execution_count": 340,
   "metadata": {},
   "outputs": [
    {
     "data": {
      "text/plain": [
       "3.9692634523529975"
      ]
     },
     "execution_count": 340,
     "metadata": {},
     "output_type": "execute_result"
    }
   ],
   "source": [
    "pred_user(0, R_train_deviations, W_train, R_train_user_mean_vec)[0,10]"
   ]
  },
  {
   "cell_type": "code",
   "execution_count": 289,
   "metadata": {
    "collapsed": true
   },
   "outputs": [],
   "source": [
    "from tqdm import tqdm"
   ]
  },
  {
   "cell_type": "code",
   "execution_count": 342,
   "metadata": {},
   "outputs": [
    {
     "name": "stderr",
     "output_type": "stream",
     "text": [
      "100%|████████████████████████████████████████████████████████████████████████████| 10000/10000 [14:30<00:00, 11.48it/s]\n"
     ]
    },
    {
     "name": "stdout",
     "output_type": "stream",
     "text": [
      "Wall time: 14min 30s\n"
     ]
    }
   ],
   "source": [
    "%%time\n",
    "R_train_predictions_weighted = np.zeros((10000, 2500))\n",
    "for i in tqdm(range(10000)):\n",
    "    R_train_predictions_weighted[i,:] = pred_user(i, R_train_deviations, W_train, R_train_user_mean)\n"
   ]
  },
  {
   "cell_type": "code",
   "execution_count": 343,
   "metadata": {
    "collapsed": true
   },
   "outputs": [],
   "source": [
    "Y_train_hat_weighted = np.asarray(R_train_predictions_weighted[R_train.nonzero()]).reshape(-1)"
   ]
  },
  {
   "cell_type": "markdown",
   "metadata": {},
   "source": [
    "Now that I am weighting contributions to the prediction based on user similarities, I expect results to be better.\n",
    "However, for the training set the effect will probably be inflated, since users will de deemed to be very similar to themselves, and thus leak their actual ratings into the predictions to a larger extend compared to when no weights were used."
   ]
  },
  {
   "cell_type": "code",
   "execution_count": 344,
   "metadata": {},
   "outputs": [
    {
     "name": "stdout",
     "output_type": "stream",
     "text": [
      "MSE on training set, with user similarity weighting: 0.7890\n"
     ]
    }
   ],
   "source": [
    "print(\"MSE on training set, with user similarity weighting: %.4f\" % mean_squared_error(Y_train, Y_train_hat_weighted))"
   ]
  },
  {
   "cell_type": "markdown",
   "metadata": {},
   "source": [
    "Hmm, thsi result is actually worse compared to that of simply taking the average, and it came at a significant computational cost...\n",
    "\n",
    "Let's see what happens if we only consider the k closest neighbours to a user when making predictions."
   ]
  },
  {
   "cell_type": "code",
   "execution_count": 360,
   "metadata": {
    "collapsed": true
   },
   "outputs": [],
   "source": [
    "def pred_user_from_k_neighbours(user_id, R_deviations, W, R_user_mean, k):\n",
    "    \n",
    "    # Since we are filtering out users, let's also filter out the actual user we are predicting.\n",
    "    k_closest_users = np.argpartition(W[user_id], -k-1)[-k-1:]\n",
    "    k_closest_users = np.delete(k_closest_users, np.where(k_closest_users == user_id))\n",
    "    \n",
    "    weighted_deviations = R_deviations[k_closest_users].T.multiply(W[user_id,k_closest_users]).T\n",
    "    \n",
    "    return R_user_mean[user_id] + np.nan_to_num((weighted_deviations.sum(0) / np.absolute(W[user_id,k_closest_users]).sum(0)), 0)"
   ]
  },
  {
   "cell_type": "code",
   "execution_count": 361,
   "metadata": {},
   "outputs": [
    {
     "data": {
      "text/plain": [
       "3.914548393149484"
      ]
     },
     "execution_count": 361,
     "metadata": {},
     "output_type": "execute_result"
    }
   ],
   "source": [
    "pred_user_from_k_neighbours(0, R_train_deviations, W_train, R_train_user_mean_vec, 50)[0,10]"
   ]
  },
  {
   "cell_type": "code",
   "execution_count": 362,
   "metadata": {},
   "outputs": [
    {
     "name": "stderr",
     "output_type": "stream",
     "text": [
      " 30%|██████████████████████▉                                                     | 3023/10000 [00:05<00:11, 597.61it/s]C:\\Users\\Gustav\\Anaconda3\\lib\\site-packages\\ipykernel_launcher.py:9: RuntimeWarning: invalid value encountered in true_divide\n",
      "  if __name__ == '__main__':\n",
      "100%|███████████████████████████████████████████████████████████████████████████| 10000/10000 [00:16<00:00, 623.28it/s]\n"
     ]
    },
    {
     "name": "stdout",
     "output_type": "stream",
     "text": [
      "Wall time: 16.1 s\n"
     ]
    }
   ],
   "source": [
    "%%time\n",
    "R_train_predictions_neighbours = np.zeros((10000, 2500))\n",
    "for i in tqdm(range(10000)):\n",
    "    R_train_predictions_neighbours[i,:] = pred_user_from_k_neighbours(i, R_train_deviations, W_train, R_train_user_mean, 50)\n"
   ]
  },
  {
   "cell_type": "code",
   "execution_count": 368,
   "metadata": {},
   "outputs": [
    {
     "name": "stdout",
     "output_type": "stream",
     "text": [
      "MSE on training set, with user similarity weighting and 50 neighbours: 0.6629\n"
     ]
    }
   ],
   "source": [
    "Y_train_hat_neighbours = np.asarray(R_train_predictions_neighbours[R_train.nonzero()]).reshape(-1)\n",
    "print(\"MSE on training set, with user similarity weighting and 50 neighbours: %.4f\" % mean_squared_error(Y_train, Y_train_hat_neighbours))"
   ]
  },
  {
   "cell_type": "markdown",
   "metadata": {},
   "source": [
    "Improvement! And the computational cost is also much lower comapred to taking the full weighted average. Also, this is actually the first method where I did not allow the model to peek at the users own ratings.\n",
    "\n",
    "Anyway, we should not evaluate on the test set, let's try the test set instead."
   ]
  },
  {
   "cell_type": "markdown",
   "metadata": {},
   "source": [
    "# Test set evaluations"
   ]
  },
  {
   "cell_type": "markdown",
   "metadata": {},
   "source": [
    "## Un-weighted"
   ]
  },
  {
   "cell_type": "code",
   "execution_count": 364,
   "metadata": {
    "collapsed": true
   },
   "outputs": [],
   "source": [
    "# Rhat\n",
    "R_test_user_mean = R_test.sum(1) / (R_test != 0).sum(1)\n",
    "R_test_user_mean_vec = np.asarray(R_test_user_mean).reshape(-1)"
   ]
  },
  {
   "cell_type": "code",
   "execution_count": 365,
   "metadata": {
    "collapsed": true
   },
   "outputs": [],
   "source": [
    "R_test_predictions = R_test_user_mean + R_train_movie_mean_deviations"
   ]
  },
  {
   "cell_type": "markdown",
   "metadata": {},
   "source": [
    "Though, since we can only evaluate movies that users have actually rated, let's also create a vector of predictions that we call $\\hat{Y}$, that we can use to compare to the ectual reviews $Y$."
   ]
  },
  {
   "cell_type": "code",
   "execution_count": 366,
   "metadata": {
    "collapsed": true
   },
   "outputs": [],
   "source": [
    "Y_test_hat = np.asarray(R_test_predictions[R_test.nonzero()]).reshape(-1)"
   ]
  },
  {
   "cell_type": "code",
   "execution_count": 370,
   "metadata": {
    "collapsed": true
   },
   "outputs": [],
   "source": [
    "Y_test = R_test.data"
   ]
  },
  {
   "cell_type": "code",
   "execution_count": 371,
   "metadata": {},
   "outputs": [
    {
     "name": "stdout",
     "output_type": "stream",
     "text": [
      "MSE on test set, without weights: 0.8899\n"
     ]
    }
   ],
   "source": [
    "print(\"MSE on test set, without weights: %.4f\" % mean_squared_error(Y_test, Y_test_hat))"
   ]
  },
  {
   "cell_type": "markdown",
   "metadata": {},
   "source": [
    "Worse than the training result, as expected!"
   ]
  },
  {
   "cell_type": "markdown",
   "metadata": {},
   "source": [
    "## Weighted"
   ]
  },
  {
   "cell_type": "markdown",
   "metadata": {},
   "source": [
    "We didn't need the test set deviations for the un-weighted approach, but now we need them to calculate user similarities."
   ]
  },
  {
   "cell_type": "code",
   "execution_count": 372,
   "metadata": {
    "collapsed": true
   },
   "outputs": [],
   "source": [
    "# Elementwise subtraction of the user means (adapted from https://stackoverflow.com/questions/19017804/scipy-sparse-matrix-special-substraction)\n",
    "non_zero_per_row = np.diff(R_test.indptr)\n",
    "\n",
    "R_test_deviations = scipy.sparse.csr_matrix((R_test.data - np.repeat(R_test_user_mean_vec, non_zero_per_row), R_test.indices, R_test.indptr),\n",
    "                   shape=R_test.shape)"
   ]
  },
  {
   "cell_type": "markdown",
   "metadata": {},
   "source": [
    "Calculate similarity of users in the test set and the training set. $W_{i,j}$ will be the similarity of user $i$ in the test set and user $j$ in the training set."
   ]
  },
  {
   "cell_type": "code",
   "execution_count": 378,
   "metadata": {
    "collapsed": true
   },
   "outputs": [],
   "source": [
    "W_test = cosine_similarity(R_test_deviations, R_train_deviations)"
   ]
  },
  {
   "cell_type": "code",
   "execution_count": 379,
   "metadata": {},
   "outputs": [
    {
     "data": {
      "text/plain": [
       "(10000, 10000)"
      ]
     },
     "execution_count": 379,
     "metadata": {},
     "output_type": "execute_result"
    }
   ],
   "source": [
    "W_test.shape"
   ]
  },
  {
   "cell_type": "markdown",
   "metadata": {},
   "source": [
    "Predictions should be made based on the average rating of a user in the test set, it's similarity to users in the training set, and the ratings users in the training set has made."
   ]
  },
  {
   "cell_type": "code",
   "execution_count": 380,
   "metadata": {},
   "outputs": [
    {
     "data": {
      "text/plain": [
       "4.0367859266880854"
      ]
     },
     "execution_count": 380,
     "metadata": {},
     "output_type": "execute_result"
    }
   ],
   "source": [
    "pred(0, 10, R_train_deviations, W_test, R_test_user_mean_vec)"
   ]
  },
  {
   "cell_type": "code",
   "execution_count": 381,
   "metadata": {},
   "outputs": [
    {
     "name": "stderr",
     "output_type": "stream",
     "text": [
      "100%|████████████████████████████████████████████████████████████████████████████| 10000/10000 [11:53<00:00, 14.02it/s]\n"
     ]
    },
    {
     "name": "stdout",
     "output_type": "stream",
     "text": [
      "Wall time: 11min 53s\n"
     ]
    }
   ],
   "source": [
    "%%time\n",
    "R_test_predictions_weighted = np.zeros((10000, 2500))\n",
    "for i in tqdm(range(10000)):\n",
    "    R_test_predictions_weighted[i,:] = pred_user(i, R_train_deviations, W_test, R_test_user_mean)\n"
   ]
  },
  {
   "cell_type": "code",
   "execution_count": 383,
   "metadata": {
    "collapsed": true
   },
   "outputs": [],
   "source": [
    "Y_test_hat_weighted = np.asarray(R_test_predictions_weighted[R_test.nonzero()]).reshape(-1)"
   ]
  },
  {
   "cell_type": "code",
   "execution_count": 384,
   "metadata": {},
   "outputs": [
    {
     "name": "stdout",
     "output_type": "stream",
     "text": [
      "MSE on testing set, with user similarity weighting: 0.7660\n"
     ]
    }
   ],
   "source": [
    "print(\"MSE on testing set, with user similarity weighting: %.4f\" % mean_squared_error(Y_test, Y_test_hat_weighted))"
   ]
  },
  {
   "cell_type": "markdown",
   "metadata": {},
   "source": [
    "Wow, this is actually a better result compared to what we got on the training set. Fishy..."
   ]
  },
  {
   "cell_type": "markdown",
   "metadata": {},
   "source": [
    "We need to modify the k-neighbour approach, since it is no longer relevant to filter out the user we are predicting ratings for."
   ]
  },
  {
   "cell_type": "code",
   "execution_count": 385,
   "metadata": {
    "collapsed": true
   },
   "outputs": [],
   "source": [
    "def pred_user_from_k_neighbours_test(user_id, R_deviations, W, R_user_mean, k):\n",
    "    \n",
    "    k_closest_users = np.argpartition(W[user_id], -k)[-k:]\n",
    "    \n",
    "    weighted_deviations = R_deviations[k_closest_users].T.multiply(W[user_id,k_closest_users]).T\n",
    "    \n",
    "    return R_user_mean[user_id] + np.nan_to_num((weighted_deviations.sum(0) / np.absolute(W[user_id,k_closest_users]).sum(0)), 0)"
   ]
  },
  {
   "cell_type": "code",
   "execution_count": 386,
   "metadata": {},
   "outputs": [
    {
     "name": "stderr",
     "output_type": "stream",
     "text": [
      " 11%|████████▋                                                                   | 1139/10000 [00:01<00:15, 589.86it/s]C:\\Users\\Gustav\\Anaconda3\\lib\\site-packages\\ipykernel_launcher.py:9: RuntimeWarning: invalid value encountered in true_divide\n",
      "  if __name__ == '__main__':\n",
      "100%|███████████████████████████████████████████████████████████████████████████| 10000/10000 [00:16<00:00, 623.37it/s]\n"
     ]
    },
    {
     "name": "stdout",
     "output_type": "stream",
     "text": [
      "Wall time: 16 s\n"
     ]
    }
   ],
   "source": [
    "%%time\n",
    "R_test_predictions_neighbours = np.zeros((10000, 2500))\n",
    "for i in tqdm(range(10000)):\n",
    "    R_test_predictions_neighbours[i,:] = pred_user_from_k_neighbours(i, R_train_deviations, W_test, R_test_user_mean, 50)\n"
   ]
  },
  {
   "cell_type": "code",
   "execution_count": 387,
   "metadata": {},
   "outputs": [
    {
     "name": "stdout",
     "output_type": "stream",
     "text": [
      "MSE on testing set, with user similarity weighting and 50 neighbours: 0.6580\n"
     ]
    }
   ],
   "source": [
    "Y_test_hat_neighbours = np.asarray(R_test_predictions_neighbours[R_test.nonzero()]).reshape(-1)\n",
    "print(\"MSE on testing set, with user similarity weighting and 50 neighbours: %.4f\" % mean_squared_error(Y_test, Y_test_hat_neighbours))"
   ]
  },
  {
   "cell_type": "markdown",
   "metadata": {},
   "source": [
    "Hmm, again we see better results compared to what we got on the training set..."
   ]
  },
  {
   "cell_type": "markdown",
   "metadata": {},
   "source": [
    "Let's see what happens with fewer neighbours:"
   ]
  },
  {
   "cell_type": "code",
   "execution_count": 389,
   "metadata": {},
   "outputs": [
    {
     "name": "stderr",
     "output_type": "stream",
     "text": [
      " 11%|████████▋                                                                   | 1141/10000 [00:01<00:14, 624.92it/s]C:\\Users\\Gustav\\Anaconda3\\lib\\site-packages\\ipykernel_launcher.py:9: RuntimeWarning: invalid value encountered in true_divide\n",
      "  if __name__ == '__main__':\n",
      "100%|███████████████████████████████████████████████████████████████████████████| 10000/10000 [00:16<00:00, 605.77it/s]\n"
     ]
    },
    {
     "name": "stdout",
     "output_type": "stream",
     "text": [
      "Wall time: 16.5 s\n"
     ]
    }
   ],
   "source": [
    "%%time\n",
    "R_test_predictions_neighbours_25 = np.zeros((10000, 2500))\n",
    "for i in tqdm(range(10000)):\n",
    "    R_test_predictions_neighbours_25[i,:] = pred_user_from_k_neighbours(i, R_train_deviations, W_test, R_test_user_mean, 25)\n"
   ]
  },
  {
   "cell_type": "code",
   "execution_count": 390,
   "metadata": {},
   "outputs": [
    {
     "name": "stdout",
     "output_type": "stream",
     "text": [
      "MSE on testing set, with user similarity weighting and 25 neighbours: 0.6493\n"
     ]
    }
   ],
   "source": [
    "Y_test_hat_neighbours_25 = np.asarray(R_test_predictions_neighbours_25[R_test.nonzero()]).reshape(-1)\n",
    "print(\"MSE on testing set, with user similarity weighting and 25 neighbours: %.4f\" % mean_squared_error(Y_test, Y_test_hat_neighbours_25))"
   ]
  },
  {
   "cell_type": "markdown",
   "metadata": {},
   "source": [
    "Even better!\n",
    "\n",
    "Still, I find it very fishy that we get better results on the test set compared to the training set."
   ]
  }
 ],
 "metadata": {
  "kernelspec": {
   "display_name": "Python 3",
   "language": "python",
   "name": "python3"
  },
  "language_info": {
   "codemirror_mode": {
    "name": "ipython",
    "version": 3
   },
   "file_extension": ".py",
   "mimetype": "text/x-python",
   "name": "python",
   "nbconvert_exporter": "python",
   "pygments_lexer": "ipython3",
   "version": "3.6.2"
  }
 },
 "nbformat": 4,
 "nbformat_minor": 2
}
